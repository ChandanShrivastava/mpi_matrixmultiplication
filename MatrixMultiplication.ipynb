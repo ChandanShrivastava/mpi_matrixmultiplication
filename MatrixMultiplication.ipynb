{
  "nbformat": 4,
  "nbformat_minor": 0,
  "metadata": {
    "colab": {
      "provenance": [],
      "authorship_tag": "ABX9TyOhkUvqzLufyIT+ZGvBTug4",
      "include_colab_link": true
    },
    "kernelspec": {
      "name": "python3",
      "display_name": "Python 3"
    },
    "language_info": {
      "name": "python"
    }
  },
  "cells": [
    {
      "cell_type": "markdown",
      "metadata": {
        "id": "view-in-github",
        "colab_type": "text"
      },
      "source": [
        "<a href=\"https://colab.research.google.com/github/ChandanShrivastava/mpi_matrixmultiplication/blob/master/MatrixMultiplication.ipynb\" target=\"_parent\"><img src=\"https://colab.research.google.com/assets/colab-badge.svg\" alt=\"Open In Colab\"/></a>"
      ]
    },
    {
      "cell_type": "code",
      "source": [
        "# Example usage:\n",
        "import time\n",
        "import numpy as np"
      ],
      "metadata": {
        "id": "TKWq6rV4CaPU"
      },
      "execution_count": 3,
      "outputs": []
    },
    {
      "cell_type": "code",
      "source": [
        "leng = 300\n",
        "matrix_a = np.random.randint(0, 1000, size=(leng, leng)).tolist()\n",
        "matrix_b = np.random.randint(0, 1000, size=(leng, leng)).tolist()\n",
        "\n",
        "print(\"Matrix A:\")\n",
        "#for row in matrix_a:\n",
        "     #print(row)\n",
        "#\n",
        "print(\"\\nMatrix B:\")\n",
        "#for row in matrix_b:\n",
        "     #print(row)"
      ],
      "metadata": {
        "colab": {
          "base_uri": "https://localhost:8080/"
        },
        "id": "46SKiTV8Cio-",
        "outputId": "71c857e1-75a2-4110-d44c-6f7ba8a5a3d9"
      },
      "execution_count": 4,
      "outputs": [
        {
          "output_type": "stream",
          "name": "stdout",
          "text": [
            "Matrix A:\n",
            "\n",
            "Matrix B:\n"
          ]
        }
      ]
    },
    {
      "cell_type": "markdown",
      "source": [],
      "metadata": {
        "id": "e11_3X2ADCcC"
      }
    },
    {
      "cell_type": "code",
      "execution_count": 5,
      "metadata": {
        "id": "2MmDj-4Sv7HN"
      },
      "outputs": [],
      "source": [
        "def multiply_matrices(matrix1, matrix2):\n",
        "    # Get dimensions\n",
        "    rows1 = len(matrix1)\n",
        "    cols1 = len(matrix1[0])\n",
        "    rows2 = len(matrix2)\n",
        "    cols2 = len(matrix2[0])\n",
        "\n",
        "    # Check if multiplication is possible\n",
        "    if cols1 != rows2:\n",
        "        return \"Error: Number of columns in the first matrix must equal the number of rows in the second matrix.\"\n",
        "\n",
        "    # Initialize result matrix with zeros\n",
        "    result_matrix = [[0 for _ in range(cols2)] for _ in range(rows1)]\n",
        "\n",
        "    # Perform multiplication\n",
        "    for i in range(rows1):\n",
        "        for j in range(cols2):\n",
        "            for k in range(cols1):\n",
        "                result_matrix[i][j] += matrix1[i][k] * matrix2[k][j]\n",
        "\n",
        "    return result_matrix\n",
        "\n"
      ]
    },
    {
      "cell_type": "code",
      "source": [
        "# Start the timer\n",
        "start_time = time.time()\n",
        "\n",
        "product = multiply_matrices(matrix_a, matrix_b)\n",
        "\n",
        "if isinstance(product, str):\n",
        "    print(product)\n",
        "else:\n",
        "    #for row in product:\n",
        "    print(len(product))\n",
        "\n",
        "# Stop the timer\n",
        "end_time = time.time()\n",
        "\n",
        "# Calculate the execution time\n",
        "execution_time = end_time - start_time\n",
        "\n",
        "print(f\"Execution time for a normal run: {execution_time:.6f} seconds\")"
      ],
      "metadata": {
        "colab": {
          "base_uri": "https://localhost:8080/"
        },
        "id": "GmcyDYHJx0Cd",
        "outputId": "b9d66c18-eade-4c21-8749-b51963b3c9f2"
      },
      "execution_count": 11,
      "outputs": [
        {
          "output_type": "stream",
          "name": "stdout",
          "text": [
            "300\n",
            "Execution time for a normal run: 4.192351 seconds\n"
          ]
        }
      ]
    },
    {
      "cell_type": "code",
      "source": [
        "# Install the mpi4py package\n",
        "!pip -qq install mpi4py"
      ],
      "metadata": {
        "colab": {
          "base_uri": "https://localhost:8080/"
        },
        "id": "MfXNKOR13LtV",
        "outputId": "6e01ccb9-9de6-4505-8d2d-cf8c4fd03d14"
      },
      "execution_count": null,
      "outputs": [
        {
          "output_type": "stream",
          "name": "stdout",
          "text": [
            "\u001b[?25l     \u001b[90m━━━━━━━━━━━━━━━━━━━━━━━━━━━━━━━━━━━━━━━━\u001b[0m \u001b[32m0.0/466.3 kB\u001b[0m \u001b[31m?\u001b[0m eta \u001b[36m-:--:--\u001b[0m\r\u001b[2K     \u001b[91m━━━━━━━━━━━━━━━━━━━━━━━━━━━━━━━━━━━━━\u001b[0m\u001b[91m╸\u001b[0m \u001b[32m460.8/466.3 kB\u001b[0m \u001b[31m15.4 MB/s\u001b[0m eta \u001b[36m0:00:01\u001b[0m\r\u001b[2K     \u001b[90m━━━━━━━━━━━━━━━━━━━━━━━━━━━━━━━━━━━━━━\u001b[0m \u001b[32m466.3/466.3 kB\u001b[0m \u001b[31m10.3 MB/s\u001b[0m eta \u001b[36m0:00:00\u001b[0m\n",
            "\u001b[?25h  Installing build dependencies ... \u001b[?25l\u001b[?25hdone\n",
            "  Getting requirements to build wheel ... \u001b[?25l\u001b[?25hdone\n",
            "  Installing backend dependencies ... \u001b[?25l\u001b[?25hdone\n",
            "  Preparing metadata (pyproject.toml) ... \u001b[?25l\u001b[?25hdone\n"
          ]
        }
      ]
    },
    {
      "cell_type": "code",
      "source": [
        "import sys\n",
        "from mpi4py import MPI # Importing mpi4py package from MPI module\n",
        "import numpy as np"
      ],
      "metadata": {
        "id": "iPvteUri4HLX"
      },
      "execution_count": null,
      "outputs": []
    },
    {
      "cell_type": "code",
      "source": [
        "%%writefile parallel_multiply_matrices_mpi.py\n",
        "\n",
        "\n",
        "def parallel_multiply_matrices_mpi(matrix1, matrix2):\n",
        "    comm = MPI.COMM_WORLD\n",
        "    rank = comm.Get_rank()\n",
        "    size = comm.Get_size()\n",
        "\n",
        "    # Basic dimension check (can be made more robust)\n",
        "    if len(matrix1[0]) != len(matrix2):\n",
        "        if rank == 0:\n",
        "            print(\"Error: Number of columns in the first matrix must equal the number of rows in the second matrix.\")\n",
        "        return None\n",
        "\n",
        "    rows1 = len(matrix1)\n",
        "    cols1 = len(matrix1[0])\n",
        "    rows2 = len(matrix2)\n",
        "    cols2 = len(matrix2[0])\n",
        "\n",
        "    # Only the root process handles the initial data and gathers results\n",
        "    if rank == 0:\n",
        "        matrix_a = np.array(matrix1)\n",
        "        matrix_b = np.array(matrix2)\n",
        "        result_matrix = np.empty((rows1, cols2), dtype=int)\n",
        "\n",
        "        # Distribute rows of matrix_a to other processes\n",
        "        rows_per_process = rows1 // size\n",
        "        remainder = rows1 % size\n",
        "\n",
        "        for i in range(size):\n",
        "            start_row = i * rows_per_process + min(i, remainder)\n",
        "            end_row = start_row + rows_per_process + (1 if i < remainder else 0)\n",
        "            if i == 0:\n",
        "                # The root process works on its assigned rows\n",
        "                local_matrix_a = matrix_a[start_row:end_row, :]\n",
        "            else:\n",
        "                # Send rows to other processes\n",
        "                comm.send(matrix_a[start_row:end_row, :], dest=i, tag=11)\n",
        "                # Send matrix_b to other processes\n",
        "                comm.send(matrix_b, dest=i, tag=22)\n",
        "\n",
        "    else:\n",
        "        # Receive rows of matrix_a and matrix_b\n",
        "        local_matrix_a = comm.recv(source=0, tag=11)\n",
        "        matrix_b = comm.recv(source=0, tag=22)\n",
        "        result_matrix = None # Only root process holds the final result array\n",
        "\n",
        "    # Each process performs multiplication on its assigned rows\n",
        "    if local_matrix_a is not None:\n",
        "        local_result = np.dot(local_matrix_a, matrix_b)\n",
        "    else:\n",
        "        local_result = None\n",
        "\n",
        "    # Gather results from all processes to the root\n",
        "    comm.Gather(local_result, result_matrix, root=0)\n",
        "\n",
        "    if rank == 0:\n",
        "        return result_matrix\n",
        "    else:\n",
        "        return None\n",
        "\n",
        "\n",
        "if __name__ == \"__main__\":\n",
        "    # Check if there are enough command-line arguments\n",
        "    if len(sys.argv) == 2:\n",
        "        # The script name is sys.argv[0], so arguments start from index 1\n",
        "        matrix_a = sys.argv[1]\n",
        "        matrix_b = sys.argv[2]\n",
        "        product = parallel_multiply_matrices_mpi(matrix_a, matrix_b)\n",
        "        if MPI.COMM_WORLD.Get_rank() == 0 and product is not None:\n",
        "            print(product)\n",
        "    else:\n",
        "        print(\"Usage: python3 script.py matrix_a matrix_b\")\n"
      ],
      "metadata": {
        "colab": {
          "base_uri": "https://localhost:8080/"
        },
        "id": "QMDS0P4E4SE-",
        "outputId": "bab22476-882a-490f-f768-9931d1556f08"
      },
      "execution_count": null,
      "outputs": [
        {
          "output_type": "stream",
          "name": "stdout",
          "text": [
            "Writing parallel_multiply_matrices_mpi.py\n"
          ]
        }
      ]
    },
    {
      "cell_type": "code",
      "source": [
        "# Start the timer\n",
        "start_time = time.time()\n",
        "\n",
        "!mpirun --allow-run-as-root --oversubscribe -np 2 python parallel_multiply_matrices_mpi.py matrix_a matrix_b\n",
        "\n",
        "# Stop the timer\n",
        "end_time = time.time()\n",
        "\n",
        "# Calculate the execution time\n",
        "execution_time = end_time - start_time\n",
        "\n",
        "print(f\"Execution time for a MPI run: {execution_time:.6f} seconds\")\n"
      ],
      "metadata": {
        "colab": {
          "base_uri": "https://localhost:8080/"
        },
        "id": "NG716GHPAAg2",
        "outputId": "b5313474-881b-4161-c283-4dfef20ea71f"
      },
      "execution_count": null,
      "outputs": [
        {
          "output_type": "stream",
          "name": "stdout",
          "text": [
            "Execution time for a MPI run: 0.103842 seconds\n"
          ]
        }
      ]
    },
    {
      "cell_type": "code",
      "source": [],
      "metadata": {
        "colab": {
          "base_uri": "https://localhost:8080/",
          "height": 384
        },
        "id": "AvGGQYs34bb9",
        "outputId": "09fe9cf4-e324-448d-9970-54145dcd637b"
      },
      "execution_count": null,
      "outputs": [
        {
          "output_type": "error",
          "ename": "SyntaxError",
          "evalue": "invalid syntax (<timeit-src>, line 3)",
          "traceback": [
            "Traceback \u001b[0;36m(most recent call last)\u001b[0m:\n",
            "  File \u001b[1;32m\"/usr/local/lib/python3.11/dist-packages/IPython/core/interactiveshell.py\"\u001b[0m, line \u001b[1;32m3553\u001b[0m, in \u001b[1;35mrun_code\u001b[0m\n    exec(code_obj, self.user_global_ns, self.user_ns)\n",
            "  File \u001b[1;32m\"<ipython-input-20-197259945>\"\u001b[0m, line \u001b[1;32m7\u001b[0m, in \u001b[1;35m<cell line: 0>\u001b[0m\n    single_run_time = timeit.timeit(stmt=code_to_measure, number=1)\n",
            "  File \u001b[1;32m\"/usr/lib/python3.11/timeit.py\"\u001b[0m, line \u001b[1;32m237\u001b[0m, in \u001b[1;35mtimeit\u001b[0m\n    return Timer(stmt, setup, timer, globals).timeit(number)\n",
            "\u001b[0;36m  File \u001b[0;32m\"/usr/lib/python3.11/timeit.py\"\u001b[0;36m, line \u001b[0;32m125\u001b[0;36m, in \u001b[0;35m__init__\u001b[0;36m\u001b[0m\n\u001b[0;31m    compile(stmtprefix + stmt, dummy_src_name, \"exec\")\u001b[0m\n",
            "\u001b[0;36m  File \u001b[0;32m\"<timeit-src>\"\u001b[0;36m, line \u001b[0;32m3\u001b[0m\n\u001b[0;31m    !mpirun --allow-run-as-root --oversubscribe -np 2 python parallel_multiply_matrices_mpi.py matrix_a matrix_b\u001b[0m\n\u001b[0m    ^\u001b[0m\n\u001b[0;31mSyntaxError\u001b[0m\u001b[0;31m:\u001b[0m invalid syntax\n"
          ]
        }
      ]
    }
  ]
}